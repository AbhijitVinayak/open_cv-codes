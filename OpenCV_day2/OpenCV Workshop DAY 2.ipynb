{
 "cells": [
  {
   "cell_type": "markdown",
   "metadata": {},
   "source": [
    "<a name=\"top\"></a>\n",
    "# OpenCV workshop Day 2\n",
    "\n",
    "Here's a documentation to OpenCV to assist you with the day 2 of the Workshop in OpenCV and Computer Vision. The codes are written \n",
    "\n",
    "![Computer](./cv.png)"
   ]
  },
  {
   "cell_type": "markdown",
   "metadata": {},
   "source": [
    "<div style=\"height:10px;\"></div>\n",
    "\n",
    "- [OpenCV documentation and Tutorials](#-open-cv-documentation)\n",
    "- [Projects in openCV and Computer Vision](#-projects)\n",
    "- [Colour Spaces and Thresholding](#-colour-spaces)\n",
    "- [Filters](#-filters)\n",
    "- [Canny Edge Detection](#-canny-edge-detection)\n",
    "- [Face Detection](#-face-detection)\n",
    "- [Further Resources](#-other)\n",
    "\n",
    "\n",
    "<div style=\"height:10px;\"></div>\n"
   ]
  },
  {
   "cell_type": "markdown",
   "metadata": {},
   "source": [
    "<b id=\"-open-cv-documentation\">OpenCV documentation and Tutorials</b> <a href=\"#top\">[back to top]</a>\n",
    "\n",
    "\n",
    "- Official OpenCV documentation - The Bible for OpenCV[[here](https://docs.opencv.org/2.4/doc/tutorials/tutorials.html)]\n",
    " \n",
    " Refer to the official openCV documentation above for detailed tutorials.\n",
    " \n",
    "\n",
    "\n",
    "<br>\n"
   ]
  },
  {
   "cell_type": "markdown",
   "metadata": {},
   "source": [
    "<b id=\"-projects\">Projects in openCV and Computer Vision</b> <a href=\"#top\">[back to top]</a>\n",
    "\n",
    "- Great projects for all levels. From basic image processing to Machine Learning [[Hackster](https://www.hackster.io/opencv/projects)]  \n",
    "\n",
    "Don't be intimidated !!! Start working on the basic projects to get a hang of it and eventually dive into deep learning for Computer Vision. <br><br>\n",
    "![LearnDo](./learnbydoing.jpg)\n",
    "\n",
    "<br>"
   ]
  },
  {
   "cell_type": "markdown",
   "metadata": {},
   "source": [
    "<b id=\"-colour-spaces\">Colour Spaces and Thresholding</b> <a href=\"#top\">[back to top]</a>\n",
    "\n",
    "- Interested in knowing the mathematics behind color conversions from one form of representation to another? Have a look at this brief explanation. Do not worry if you don't understand it on the first go . [[Math of Color Conversion](https://docs.opencv.org/3.1.0/de/d25/imgproc_color_conversions.html)]  \n",
    "\n",
    "![BlueMask](./bluemask.jpg)\n",
    "![YellowMask](./yellowmask.jpg)\n",
    "\n",
    "REFER TO THE CODE BELOW FOR CONVERTING AN IMAGE FROM RGB TO GRAYSCALE :\n",
    "\n",
    "![IronMan](./ironman.png)\n",
    "\n",
    "<br>"
   ]
  },
  {
   "cell_type": "code",
   "execution_count": 1,
   "metadata": {},
   "outputs": [],
   "source": [
    "### Code to convert Coloured image to Grayscale\n",
    "\n",
    "import cv2\n",
    " \n",
    "image = cv2.imread('mainimage.png')\n",
    "gray = cv2.cvtColor(image, cv2.COLOR_BGR2GRAY)\n",
    " \n",
    "cv2.imshow('Original image',image)\n",
    "cv2.imshow('Gray image', gray)\n",
    " \n",
    "cv2.waitKey(0)\n",
    "cv2.destroyAllWindows()\n",
    " "
   ]
  },
  {
   "cell_type": "code",
   "execution_count": null,
   "metadata": {},
   "outputs": [],
   "source": [
    "# A colour thresholding examples\n",
    "# Play around with the RGB mask values to see better effect\n",
    "\n",
    "# import the necessary packages\n",
    "import numpy as np\n",
    "import cv2\n",
    "\n",
    " \n",
    "# load the image\n",
    "image = cv2.imread('mainimage.png',1)\n",
    "\n",
    "# define the list of boundaries\n",
    "boundaries = [\n",
    "\t([17, 15, 100], [50, 56, 200]),\n",
    "\t([86, 31, 4], [220, 88, 50]),\n",
    "\t([25, 146, 190], [62, 174, 250]),\n",
    "\t([103, 86, 65], [145, 133, 128])\n",
    "]\n",
    "\n",
    "\n",
    "# loop over the boundaries\n",
    "for (lower, upper) in boundaries:\n",
    "\t# create NumPy arrays from the boundaries\n",
    "\tlower = np.array(lower, dtype = \"uint8\")\n",
    "\tupper = np.array(upper, dtype = \"uint8\")\n",
    "\n",
    "\t# find the colors within the specified boundaries and apply\n",
    "\t# the mask\n",
    "\tmask = cv2.inRange(image, lower, upper)\n",
    "\toutput = cv2.bitwise_and(image, image, mask = mask)\n",
    "\n",
    "\t# show the images\n",
    "\tcv2.imshow(\"images\", np.hstack([image, output]))\n",
    "\tcv2.waitKey(0)\n",
    "cv2.destroyAllWindows()\n",
    "    "
   ]
  },
  {
   "cell_type": "markdown",
   "metadata": {},
   "source": [
    "<b id=\"-filters\">Filters</b> <a href=\"#top\">[back to top]</a>\n",
    "\n",
    "- Read this tutorial from the official openCV documentation on Filtering techniques. [[Filters](https://opencv-python-tutroals.readthedocs.io/en/latest/py_tutorials/py_imgproc/py_filtering/py_filtering.html)]  \n",
    "\n",
    "![Median](./medianfilter.png)\n",
    " MEDIAN FILTER \n",
    " \n",
    " \n",
    "![GaussianBlur](./gaussianblur.jpg)\n",
    "GAUSSIAN BLUR \n",
    "\n",
    "\n",
    "![Bilateral](./bilateral.jpg)\n",
    "BILATERAL FILTER\n",
    "\n",
    "\n",
    "<br>"
   ]
  },
  {
   "cell_type": "markdown",
   "metadata": {},
   "source": [
    "<b id=\"-canny-edge-detection\">Canny Edge Detection</b> <a href=\"#top\">[back to top]</a>\n",
    "\n",
    "- Canny Edge Detection is used to detect the edges in an image. It accepts a gray scale image as input and it uses a multistage algorithm.\n",
    "\n",
    "Don't be intimidated !!! Start working on the basic projects to get a hang of it and eventually dive into deep learning for Computer Vision. \n",
    "![Canny Edge](./canny.png)\n",
    "\n",
    "<br>"
   ]
  },
  {
   "cell_type": "markdown",
   "metadata": {},
   "source": [
    "Edges and Edge detection techniques\n",
    "In simple terms, edges are those places in a picture where the pixel intensity changes suddenly. They are just some connected pixels that lie on the boundary between two regions with different pixel intensities.\n",
    "\n",
    "For our eyes, it is so easy to identify edges. But how can we make the computer detect edges in a picture? Let’s understand.\n",
    "\n",
    "In principle, we first calculate the first derivative of the image. Then we look for those points which are peaks, and have values larger than their neighboring points Set of those connected ‘extrema’ points is an edge.\n",
    "\n",
    "But any image does contain at least some noise. We have to first of all filter out any noise. OpenCV offers a variety of filters for denoising.\n",
    "\n",
    "We choose an appropriate filter depending upon the nature of the noise. We will make the use of Gaussian blur function as an example in our Edge detection with OpenCV example.\n",
    "\n",
    "OpenCV has a lot of inbuilt functions to detect edges, corners, circles, etc. in an image. You can see some of them here: OpenCV feature detection. Now let us see how to perform Edge detection in OpenCV. I will use the Python binding of OpenCV. You can follow along or download the code from the link available at the end of the post.\n",
    "\n",
    "Sobel Filter for edge detection in OpenCV"
   ]
  },
  {
   "cell_type": "code",
   "execution_count": null,
   "metadata": {},
   "outputs": [],
   "source": [
    "import cv2\n",
    "import numpy as np\n",
    " \n",
    "img = cv2.imread('image.jpg',cv2.IMREAD_GRAYSCALE)\n",
    "rows,cols = img.shape\n",
    " \n",
    "sobel_horizontal = cv2.Sobel(img,cv2.CV_64F,1,0,ksize = 5)\n",
    "sobel_vertical = cv2.Sobel(img,cv2.CV_64F,0,1,ksize=5)\n",
    " \n",
    "cv2.imshow('Original',img)\n",
    "cv2.imshow('Sobel Horizontal Filter',sobel_horizontal)\n",
    "cv2.imshow('Sobel Vertical Filter',sobel_vertical)\n",
    " \n",
    "cv2.waitKey(0)"
   ]
  },
  {
   "cell_type": "markdown",
   "metadata": {},
   "source": [
    "See the results.\n",
    "Here is the original image converted to grayscale on line number 4.\n",
    "\n",
    "Iron man edge detection in opencv\n",
    "Original image\n",
    "And here are the results for each filter.\n",
    "\n",
    "iron man edge detection opencv python\n",
    "Sobel filter results\n",
    "As you can see, the result is not much impressive. The filters are calculating the gradient change from either horizontal or vertical side. Also, noise is still causing problems.\n",
    "\n",
    "Laplacian filter for edge detection\n",
    "I will try Laplacian filter now. It checks for gradient change in both directions. Let us see how that works. Use the following code."
   ]
  },
  {
   "cell_type": "code",
   "execution_count": null,
   "metadata": {},
   "outputs": [],
   "source": [
    "import cv2\n",
    "import numpy as np\n",
    " \n",
    "img = cv2.imread('image.jpg',cv2.IMREAD_GRAYSCALE)\n",
    "rows,cols = img.shape\n",
    " \n",
    "denoised = cv2.GaussianBlur(img,(5,5),0)\n",
    "filter = cv2.Laplacian(denoised,cv2.CV_64F)\n",
    " \n",
    "cv2.imshow('Original',img)\n",
    "cv2.imshow('Laplacian Filter',filter)\n",
    " \n",
    "cv2.waitKey(0)"
   ]
  },
  {
   "cell_type": "markdown",
   "metadata": {},
   "source": [
    "I have denoised the image using the Gaussian blur technique. Also, I have applied a Laplacian filter to the picture.\n",
    "\n",
    "And here is the result.\n",
    "\n",
    "Gaussian noise reduction and Laplacian filter\n",
    "Gaussian noise reduction and Laplacian filter\n",
    "Note now the edges are much distinct. But there is still some noise in the output. Laplacian filter applies the gradient check well on the denoised image. Impressed yet? Well, I have something more to show you.\n",
    "\n",
    "Canny Edge detector for edge detection in OpenCV\n",
    "I tried the Canny edge detector operator. It uses a multi-stage algorithm. The Canny algorithm has a low error rate hence the accuracy is great. Also, it marks the edges in the image only once. So, noise does not result in false edges.\n",
    "\n",
    "Here is the code. I have explained it below."
   ]
  },
  {
   "cell_type": "code",
   "execution_count": null,
   "metadata": {},
   "outputs": [],
   "source": [
    "import cv2\n",
    "import numpy as np\n",
    " \n",
    "img = cv2.imread('image.jpg',cv2.IMREAD_GRAYSCALE)\n",
    " \n",
    "filter = cv2.Canny(img,100,200)\n",
    " \n",
    "cv2.imshow('Original',img)\n",
    "cv2.imshow('Laplacian Filter',filter)\n",
    " \n",
    "cv2.waitKey(0)"
   ]
  },
  {
   "cell_type": "markdown",
   "metadata": {},
   "source": [
    "Edge detection in OpenCV using videos in real time\n",
    "How awesome would it be if we could find edges in videos? I am going to show you how we can detect edges in OpenCV of real time videos. I will be using the webcam input. So, the video feed will pass through the canny edge detector, and we will see an output feed on the screen.\n",
    "\n",
    "Make sure your web camera is working. Otherwise, you can just pass any video file from your disk to the VideoCapture() function’s parameter. And here is the code."
   ]
  },
  {
   "cell_type": "code",
   "execution_count": null,
   "metadata": {},
   "outputs": [],
   "source": [
    "from transform import four_point_transform\n",
    "import numpy as np\n",
    "import argparse\n",
    "import cv2\n",
    " \n",
    "cap = cv2.VideoCapture(0)\n",
    " \n",
    "while(1):\n",
    "    ret, frame = cap.read()\n",
    "    gray_vid = cv2.cvtColor(frame, cv2.IMREAD_GRAYSCALE)\n",
    "    cv2.imshow('Original',frame)\n",
    "    edged_frame = cv2.Canny(frame,100,200)\n",
    "    cv2.imshow('Edges',edged_frame)\n",
    "    k= cv2.waitKey(5)&amp;amp;amp;amp;amp;amp;amp;amp;amp;amp;amp;amp;0xFF\n",
    "    if k==27:\n",
    "        break\n",
    "cap.release()\n",
    "cv2.destroyAllWindows()"
   ]
  },
  {
   "cell_type": "markdown",
   "metadata": {},
   "source": [
    "<b id=\"-face-detection\">Face Detection</b> <a href=\"#top\">[back to top]</a>\n",
    "\n",
    "- Great projects for all levels. From basic image processing to Machine Learning [[Hackster](https://www.hackster.io/opencv/projects)]  \n",
    "\n",
    "Don't be intimidated !!! Start working on the basic projects to get a hang of it and eventually dive into deep learning for Computer Vision. <br>\n",
    "![Chote Bachche](./face_detection.jpg)\n",
    "\n",
    "<br>"
   ]
  },
  {
   "cell_type": "code",
   "execution_count": null,
   "metadata": {},
   "outputs": [],
   "source": [
    "import numpy as np\n",
    "import cv2 as cv\n",
    "face_cascade = cv.CascadeClassifier('D:\\Learning Material\\CV_make\\opencv\\data\\haarcascades\\haarcascade_frontalface_default.xml')\n",
    "eye_cascade = cv.CascadeClassifier('D:\\Learning Material\\CV_make\\opencv\\data\\haarcascades\\haarcascade_eye.xml')\n",
    "img = cv.imread('face_detection.jpg')\n",
    "gray = cv.cvtColor(img, cv.COLOR_BGR2GRAY)\n",
    "\n",
    "faces = face_cascade.detectMultiScale(gray, 1.3, 5)\n",
    "for (x,y,w,h) in faces:\n",
    "    cv.rectangle(img,(x,y),(x+w,y+h),(255,0,0),2)\n",
    "    roi_gray = gray[y:y+h, x:x+w]\n",
    "    roi_color = img[y:y+h, x:x+w]\n",
    "    eyes = eye_cascade.detectMultiScale(roi_gray)\n",
    "    for (ex,ey,ew,eh) in eyes:\n",
    "        cv.rectangle(roi_color,(ex,ey),(ex+ew,ey+eh),(0,255,0),2)\n",
    "cv.imshow('img',img)\n",
    "cv.waitKey(0)\n",
    "cv.destroyAllWindows()"
   ]
  },
  {
   "cell_type": "markdown",
   "metadata": {},
   "source": [
    "<b id=\"-others\">Further Resources</b> <a href=\"#top\">[back to top]</a>\n",
    "\n",
    "- This course is a deep dive into details of the deep learning architectures with a focus on learning end-to-end models for these tasks, particularly image classification. During the 10-week course, students will learn to implement, train and debug their own **neural networks** and gain a detailed understanding of cutting-edge research in computer vision. The final assignment will involve training a multi-million parameter convolutional neural network and applying it on the largest image classification dataset (ImageNet). We will focus on teaching how to set up the problem of image recognition, the learning algorithms (e.g. backpropagation), practical engineering tricks for training and fine-tuning the networks and guide the students through hands-on assignments and a final course project. Much of the background and materials of this course will be drawn from the ImageNet Challenge.[[Course](http://cs231n.stanford.edu/)] \n",
    "\n",
    "\n",
    "- The goal of this course is to introduce students to computer vision, starting from basics and then turning to more modern deep learning models. We will cover both image and video recognition, including image classification and annotation, object recognition and image search, various object detection techniques, motion estimation, object tracking in video, human action recognition, and finally image stylization, editing and new image generation. In course project, students will learn how to build face recognition and manipulation system to understand the internal mechanics of this technology, probably the most renown and oftenly demonstrated in movies and TV-shows example of computer vision and AI.[[CourseEra](https://www.coursera.org/learn/deep-learning-in-computer-vision)] \n",
    "\n",
    "![DeepLearning](./DL.jpeg)\n",
    "\n",
    "- Learning OpenCV puts you in the middle of the rapidly expanding field of computer vision. Written by the creators of the free open source OpenCV library, this book introduces you to computer vision and demonstrates how you can quickly build applications that enable computers to \"see\" and make decisions based on that data. \n",
    "    - This book includes:\n",
    "    - A thorough introduction to OpenCV\n",
    "    - Getting input from cameras\n",
    "    - Transforming images\n",
    "    - Segmenting images and shape matching\n",
    "    - Pattern recognition, including face detection\n",
    "    - Tracking and motion in 2 and 3 dimensions\n",
    "    - 3D reconstruction from stereo vision\n",
    "    - Machine learning algorithms\n",
    "    \n",
    "![TextBook](./opencv.jpg) \n",
    "\n",
    "![AICar](./aicar.jpg)\n",
    "\n",
    "<br>"
   ]
  }
 ],
 "metadata": {
  "kernelspec": {
   "display_name": "Python 2",
   "language": "python",
   "name": "python2"
  },
  "language_info": {
   "codemirror_mode": {
    "name": "ipython",
    "version": 2
   },
   "file_extension": ".py",
   "mimetype": "text/x-python",
   "name": "python",
   "nbconvert_exporter": "python",
   "pygments_lexer": "ipython2",
   "version": "2.7.15"
  }
 },
 "nbformat": 4,
 "nbformat_minor": 2
}
