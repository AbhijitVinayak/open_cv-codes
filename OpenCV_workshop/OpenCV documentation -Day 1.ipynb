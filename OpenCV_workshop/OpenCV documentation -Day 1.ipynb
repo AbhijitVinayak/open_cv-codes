{
 "cells": [
  {
   "cell_type": "markdown",
   "metadata": {},
   "source": [
    " # OpenCV Workshop Day 1 Code\n",
    "\n",
    "- Basically all the openCV array structures are converted to and from NumPy arrays as basically this makes it easier to integrate it with other libraries that use NumPy e.g. SciPy and MatPlotLib.\n",
    "\n",
    "Below we are going to put up  the link to documentations which you can refer to whenever you get stuck\n",
    "\n",
    " - [OpenCV documentation](https://docs.opencv.org/3.0-beta/doc/py_tutorials/py_tutorials.html)\n",
    " - [Matplotlib documentation](https://matplotlib.org/contents.html)\n",
    " - [pyplot](https://matplotlib.org/api/pyplot_api.html)\n",
    " - [Numpy documentation](https://docs.scipy.org/doc/)\n",
    "\n",
    "If you face any troubles, just look up the functions thru the documentation page.\n",
    "\n",
    "#### We are going to be dealing with just the basics of openCV on Day 1 i.e Image handling, using a webcam to stream data and Video handling\n",
    " \n",
    "**So let's begin**\n",
    "\n",
    "## How to import the opencv library\n",
    "\n",
    "To import opencv library, use the command\n",
    "\n",
    "*import cv2 as cv*\n",
    "\n",
    "This will import the opencv library"
   ]
  },
  {
   "cell_type": "code",
   "execution_count": 3,
   "metadata": {},
   "outputs": [],
   "source": [
    "# Import statements\n",
    "import cv2 as cv\n",
    "import numpy as np\n",
    "from matplotlib import pyplot as plt"
   ]
  },
  {
   "cell_type": "markdown",
   "metadata": {},
   "source": [
    "## Image handling in OpenCV\n",
    "\n",
    "### Opening an image\n",
    "\n",
    "The function used to open an image in opencv is imread(image_path). Pass it the image path. <br>\n",
    "Here it's \"Car.jpg\", so we'll use that. Note that the image must be defined at the image path, else the function will return **None**.\n",
    "<br>\n",
    "So what I want you guys to do is go online, download a picture of any car you would like and then save it as Car in your desktop.\n",
    "*Then run the cell below.*\n",
    "\n",
    "Important:\n",
    "The image you're importing using the cv.imread function must be in the same folder as where you have saved this jupyter notebook. If you import an image that doesn't exist, the cv.imread function returns **None**.\n",
    "\n",
    "Also make sure that the extensions of your image and the code match."
   ]
  },
  {
   "cell_type": "markdown",
   "metadata": {},
   "source": [
    "If you're using an IDE other than jupyter notebook, the function cv.imshow(window_name, image) would display the image, (window_name is the name of the window to be displayed and image is an image array). But here, we'll use matplotlib's imshow function, which will view the image inside the notebook session itself. \n",
    "<br>\n",
    "###### IMPORTANT:\n",
    " **OpenCV majorly deals with the BGR color format but matplotlib (which is used here) deals with RGB images. Below is an image to show you how OpenCV deals with images as a 3D numpy array**\n",
    " \n",
    " As a sidenote even MATLAB uses RGB so if you want to use Matplotlib functions or use MATLAB and opencv then do not **forget to convert it to BGR!**\n",
    "\n",
    "Matplotlib essentially deals with <font color=\"#ff0000\">RGB</font>, so we use the `cv.cvtColor` function. \n",
    "You can read up more about it on the documentation links provided:\n",
    "- [cv.imread](https://docs.opencv.org/3.0-beta/doc/py_tutorials/py_gui/py_image_display/py_image_display.html): Used to read images from disk.\n",
    "- [cv.cvtColor](https://opencv-python-tutroals.readthedocs.io/en/latest/py_tutorials/py_imgproc/py_colorspaces/py_colorspaces.html): Used to convert images from one format to another, basically changing colourspaces.\n",
    "- [matplotlib.pyplot.imshow](https://matplotlib.org/api/_as_gen/matplotlib.pyplot.imshow.html): To put an image on the currently active plot.\n",
    "- [matplotlib.pyplot.axis](https://matplotlib.org/api/_as_gen/matplotlib.pyplot.axis.html): To adjust the axis of the plot.\n",
    "- [matplotlib.pyplot.show](https://matplotlib.org/api/_as_gen/matplotlib.pyplot.show.html?highlight=show#matplotlib.pyplot.show): To view a plot."
   ]
  },
  {
   "cell_type": "code",
   "execution_count": 7,
   "metadata": {},
   "outputs": [
    {
     "ename": "RuntimeError",
     "evalue": "Could not create write struct",
     "output_type": "error",
     "traceback": [
      "\u001b[0;31m---------------------------------------------------------------------------\u001b[0m",
      "\u001b[0;31mRuntimeError\u001b[0m                              Traceback (most recent call last)",
      "\u001b[0;32m/home/akshatha_kamath/anaconda2/lib/python2.7/site-packages/IPython/core/formatters.pyc\u001b[0m in \u001b[0;36m__call__\u001b[0;34m(self, obj)\u001b[0m\n\u001b[1;32m    332\u001b[0m                 \u001b[0;32mpass\u001b[0m\u001b[0;34m\u001b[0m\u001b[0m\n\u001b[1;32m    333\u001b[0m             \u001b[0;32melse\u001b[0m\u001b[0;34m:\u001b[0m\u001b[0;34m\u001b[0m\u001b[0m\n\u001b[0;32m--> 334\u001b[0;31m                 \u001b[0;32mreturn\u001b[0m \u001b[0mprinter\u001b[0m\u001b[0;34m(\u001b[0m\u001b[0mobj\u001b[0m\u001b[0;34m)\u001b[0m\u001b[0;34m\u001b[0m\u001b[0m\n\u001b[0m\u001b[1;32m    335\u001b[0m             \u001b[0;31m# Finally look for special method names\u001b[0m\u001b[0;34m\u001b[0m\u001b[0;34m\u001b[0m\u001b[0m\n\u001b[1;32m    336\u001b[0m             \u001b[0mmethod\u001b[0m \u001b[0;34m=\u001b[0m \u001b[0mget_real_method\u001b[0m\u001b[0;34m(\u001b[0m\u001b[0mobj\u001b[0m\u001b[0;34m,\u001b[0m \u001b[0mself\u001b[0m\u001b[0;34m.\u001b[0m\u001b[0mprint_method\u001b[0m\u001b[0;34m)\u001b[0m\u001b[0;34m\u001b[0m\u001b[0m\n",
      "\u001b[0;32m/home/akshatha_kamath/anaconda2/lib/python2.7/site-packages/IPython/core/pylabtools.pyc\u001b[0m in \u001b[0;36m<lambda>\u001b[0;34m(fig)\u001b[0m\n\u001b[1;32m    245\u001b[0m \u001b[0;34m\u001b[0m\u001b[0m\n\u001b[1;32m    246\u001b[0m     \u001b[0;32mif\u001b[0m \u001b[0;34m'png'\u001b[0m \u001b[0;32min\u001b[0m \u001b[0mformats\u001b[0m\u001b[0;34m:\u001b[0m\u001b[0;34m\u001b[0m\u001b[0m\n\u001b[0;32m--> 247\u001b[0;31m         \u001b[0mpng_formatter\u001b[0m\u001b[0;34m.\u001b[0m\u001b[0mfor_type\u001b[0m\u001b[0;34m(\u001b[0m\u001b[0mFigure\u001b[0m\u001b[0;34m,\u001b[0m \u001b[0;32mlambda\u001b[0m \u001b[0mfig\u001b[0m\u001b[0;34m:\u001b[0m \u001b[0mprint_figure\u001b[0m\u001b[0;34m(\u001b[0m\u001b[0mfig\u001b[0m\u001b[0;34m,\u001b[0m \u001b[0;34m'png'\u001b[0m\u001b[0;34m,\u001b[0m \u001b[0;34m**\u001b[0m\u001b[0mkwargs\u001b[0m\u001b[0;34m)\u001b[0m\u001b[0;34m)\u001b[0m\u001b[0;34m\u001b[0m\u001b[0m\n\u001b[0m\u001b[1;32m    248\u001b[0m     \u001b[0;32mif\u001b[0m \u001b[0;34m'retina'\u001b[0m \u001b[0;32min\u001b[0m \u001b[0mformats\u001b[0m \u001b[0;32mor\u001b[0m \u001b[0;34m'png2x'\u001b[0m \u001b[0;32min\u001b[0m \u001b[0mformats\u001b[0m\u001b[0;34m:\u001b[0m\u001b[0;34m\u001b[0m\u001b[0m\n\u001b[1;32m    249\u001b[0m         \u001b[0mpng_formatter\u001b[0m\u001b[0;34m.\u001b[0m\u001b[0mfor_type\u001b[0m\u001b[0;34m(\u001b[0m\u001b[0mFigure\u001b[0m\u001b[0;34m,\u001b[0m \u001b[0;32mlambda\u001b[0m \u001b[0mfig\u001b[0m\u001b[0;34m:\u001b[0m \u001b[0mretina_figure\u001b[0m\u001b[0;34m(\u001b[0m\u001b[0mfig\u001b[0m\u001b[0;34m,\u001b[0m \u001b[0;34m**\u001b[0m\u001b[0mkwargs\u001b[0m\u001b[0;34m)\u001b[0m\u001b[0;34m)\u001b[0m\u001b[0;34m\u001b[0m\u001b[0m\n",
      "\u001b[0;32m/home/akshatha_kamath/anaconda2/lib/python2.7/site-packages/IPython/core/pylabtools.pyc\u001b[0m in \u001b[0;36mprint_figure\u001b[0;34m(fig, fmt, bbox_inches, **kwargs)\u001b[0m\n\u001b[1;32m    129\u001b[0m \u001b[0;34m\u001b[0m\u001b[0m\n\u001b[1;32m    130\u001b[0m     \u001b[0mbytes_io\u001b[0m \u001b[0;34m=\u001b[0m \u001b[0mBytesIO\u001b[0m\u001b[0;34m(\u001b[0m\u001b[0;34m)\u001b[0m\u001b[0;34m\u001b[0m\u001b[0m\n\u001b[0;32m--> 131\u001b[0;31m     \u001b[0mfig\u001b[0m\u001b[0;34m.\u001b[0m\u001b[0mcanvas\u001b[0m\u001b[0;34m.\u001b[0m\u001b[0mprint_figure\u001b[0m\u001b[0;34m(\u001b[0m\u001b[0mbytes_io\u001b[0m\u001b[0;34m,\u001b[0m \u001b[0;34m**\u001b[0m\u001b[0mkw\u001b[0m\u001b[0;34m)\u001b[0m\u001b[0;34m\u001b[0m\u001b[0m\n\u001b[0m\u001b[1;32m    132\u001b[0m     \u001b[0mdata\u001b[0m \u001b[0;34m=\u001b[0m \u001b[0mbytes_io\u001b[0m\u001b[0;34m.\u001b[0m\u001b[0mgetvalue\u001b[0m\u001b[0;34m(\u001b[0m\u001b[0;34m)\u001b[0m\u001b[0;34m\u001b[0m\u001b[0m\n\u001b[1;32m    133\u001b[0m     \u001b[0;32mif\u001b[0m \u001b[0mfmt\u001b[0m \u001b[0;34m==\u001b[0m \u001b[0;34m'svg'\u001b[0m\u001b[0;34m:\u001b[0m\u001b[0;34m\u001b[0m\u001b[0m\n",
      "\u001b[0;32m/home/akshatha_kamath/anaconda2/lib/python2.7/site-packages/matplotlib/backend_bases.pyc\u001b[0m in \u001b[0;36mprint_figure\u001b[0;34m(self, filename, dpi, facecolor, edgecolor, orientation, format, **kwargs)\u001b[0m\n\u001b[1;32m   2210\u001b[0m                     \u001b[0morientation\u001b[0m\u001b[0;34m=\u001b[0m\u001b[0morientation\u001b[0m\u001b[0;34m,\u001b[0m\u001b[0;34m\u001b[0m\u001b[0m\n\u001b[1;32m   2211\u001b[0m                     \u001b[0mdryrun\u001b[0m\u001b[0;34m=\u001b[0m\u001b[0mTrue\u001b[0m\u001b[0;34m,\u001b[0m\u001b[0;34m\u001b[0m\u001b[0m\n\u001b[0;32m-> 2212\u001b[0;31m                     **kwargs)\n\u001b[0m\u001b[1;32m   2213\u001b[0m                 \u001b[0mrenderer\u001b[0m \u001b[0;34m=\u001b[0m \u001b[0mself\u001b[0m\u001b[0;34m.\u001b[0m\u001b[0mfigure\u001b[0m\u001b[0;34m.\u001b[0m\u001b[0m_cachedRenderer\u001b[0m\u001b[0;34m\u001b[0m\u001b[0m\n\u001b[1;32m   2214\u001b[0m                 \u001b[0mbbox_inches\u001b[0m \u001b[0;34m=\u001b[0m \u001b[0mself\u001b[0m\u001b[0;34m.\u001b[0m\u001b[0mfigure\u001b[0m\u001b[0;34m.\u001b[0m\u001b[0mget_tightbbox\u001b[0m\u001b[0;34m(\u001b[0m\u001b[0mrenderer\u001b[0m\u001b[0;34m)\u001b[0m\u001b[0;34m\u001b[0m\u001b[0m\n",
      "\u001b[0;32m/home/akshatha_kamath/anaconda2/lib/python2.7/site-packages/matplotlib/backends/backend_agg.pyc\u001b[0m in \u001b[0;36mprint_png\u001b[0;34m(self, filename_or_obj, *args, **kwargs)\u001b[0m\n\u001b[1;32m    526\u001b[0m             \u001b[0;32mwith\u001b[0m \u001b[0mcbook\u001b[0m\u001b[0;34m.\u001b[0m\u001b[0mopen_file_cm\u001b[0m\u001b[0;34m(\u001b[0m\u001b[0mfilename_or_obj\u001b[0m\u001b[0;34m,\u001b[0m \u001b[0;34m\"wb\"\u001b[0m\u001b[0;34m)\u001b[0m \u001b[0;32mas\u001b[0m \u001b[0mfh\u001b[0m\u001b[0;34m:\u001b[0m\u001b[0;34m\u001b[0m\u001b[0m\n\u001b[1;32m    527\u001b[0m                 _png.write_png(renderer._renderer, fh,\n\u001b[0;32m--> 528\u001b[0;31m                                self.figure.dpi, metadata=metadata)\n\u001b[0m\u001b[1;32m    529\u001b[0m         \u001b[0;32mfinally\u001b[0m\u001b[0;34m:\u001b[0m\u001b[0;34m\u001b[0m\u001b[0m\n\u001b[1;32m    530\u001b[0m             \u001b[0mrenderer\u001b[0m\u001b[0;34m.\u001b[0m\u001b[0mdpi\u001b[0m \u001b[0;34m=\u001b[0m \u001b[0moriginal_dpi\u001b[0m\u001b[0;34m\u001b[0m\u001b[0m\n",
      "\u001b[0;31mRuntimeError\u001b[0m: Could not create write struct"
     ]
    },
    {
     "data": {
      "text/plain": [
       "<Figure size 432x288 with 1 Axes>"
      ]
     },
     "metadata": {},
     "output_type": "display_data"
    },
    {
     "name": "stdout",
     "output_type": "stream",
     "text": [
      "The dimensions of the image are (100, 100, 3)\n"
     ]
    }
   ],
   "source": [
    "import cv2 as cv\n",
    "import numpy as np\n",
    "from matplotlib import pyplot as plt\n",
    "# Read image\n",
    "img = cv.imread(\"DL.jpeg\")\n",
    "# Convert it from BGR to RGB\n",
    "img = cv.cvtColor(img, cv.COLOR_BGR2RGB)\n",
    "# Plotting commands\n",
    "# Insert image in plot and name it \"Car image\"\n",
    "plt.imshow(img)\n",
    "plt.title(\"Car image\")\n",
    "# By default, axis is shown, turn it off\n",
    "plt.axis(\"off\")\n",
    "# View plot\n",
    "plt.show()\n",
    "\n",
    "# About the image dimensions\n",
    "print(\"The dimensions of the image are {dims}\".format(dims=img.shape))"
   ]
  },
  {
   "cell_type": "markdown",
   "metadata": {},
   "source": [
    "## Using a webcam\n",
    "To use a webcam, we use the command\n",
    "\n",
    "cv.VideoCapture(0)\n",
    "\n",
    "The number passed to the function is to reference the camera index (starting from 0). \n",
    "The function `VideoCapture(camera_number)` is used to generate a camera number.\n",
    "Let's try some code to display live stream from a webcam.\n",
    "\n",
    "- [cv.VideoCapture](https://docs.opencv.org/3.0-beta/doc/py_tutorials/py_gui/py_video_display/py_video_display.html): Returns a camera/video handler.\n"
   ]
  },
  {
   "cell_type": "markdown",
   "metadata": {},
   "source": [
    "## Viewing a webstream feed\n",
    "The following code is used to show the stream from a webcam connected to the system.\n",
    "The function `cam.read()` is used to read an image from the webamera. \n",
    "\n",
    "The function `cv.imshow(window_name, frame)` is used to show an image on a window.\n",
    "\n",
    "Also, note that you might not be able to close the window while the video is being displayed (this is because it'll simply respawn everytime you close it), you'll have to stop updating the frame by pressing the key `q` inside the window. \n",
    "\n",
    "The function `cv.waitKey()` is used to get a keyboard interrupt after the specified timeout (indefinite if 0 is passed) and return the key pressed. As we use a 64 bit system, so we convert the returned value to a 64 bit format, hence the `& 0xff` (it's basically converting a number to 256 bits). Some versions work even without using the `0xff` but it's safer to use it anyways.\n",
    "\n",
    "- [cam.isOpened](https://docs.opencv.org/3.0-beta/doc/py_tutorials/py_gui/py_video_display/py_video_display.html): Used to check if the camera stream (or video stream) is open or not.\n",
    "- [cv.waitKey](https://docs.opencv.org/3.0-beta/modules/highgui/doc/user_interface.html?highlight=waitkey#waitkey): Used to read a keystroke after a given timeout.\n",
    "- [cam.read](https://docs.opencv.org/3.0-beta/modules/videoio/doc/reading_and_writing_video.html#videocapture-read): Used to read a frame from the camera object. Returns you the status of operation and the returning frame.\n",
    "- [cv.imshow](https://docs.opencv.org/3.1.0/dc/d2e/tutorial_py_image_display.html): Viewing an image from an array in a named window."
   ]
  },
  {
   "cell_type": "markdown",
   "metadata": {},
   "source": [
    "Of course there's the traditional way of closing it by clicking the close button (this time it won't respawn because you're no longer calling the cv.imshow function), but you might want to use code to do it. You can use any one of the following statements to close it.\n",
    "\n",
    "#### Destroy a window named 'Live feed'\n",
    "cv.destroyWindow('Live feed')\n",
    "\n",
    "#### Destroy all the windows open\n",
    "cv.destroyAllWindows()\n",
    "Once you've done that, you might want to release the camera resources. You do that using the function release().\n",
    "**It's important that you release the resources, because no other program can use the camera resources if the camera is busy here.**"
   ]
  },
  {
   "cell_type": "code",
   "execution_count": null,
   "metadata": {},
   "outputs": [],
   "source": [
    "import cv2 as cv\n",
    "import numpy as np\n",
    "from matplotlib import pyplot as plt\n",
    "cam = cv.VideoCapture(0)\n",
    "cam.open(0)\n",
    "while cam.isOpened():\n",
    "    ret, frame = cam.read()\n",
    "    if not ret:\n",
    "       continue\n",
    "    cv.imshow('Live feed', frame)\n",
    "    key = cv.waitKey(1) & 0xFF\n",
    "    if key == ord('q'):\n",
    "       break\n",
    "print(\"Done\")\n",
    "cv.destroyWindow('Live feed')\n",
    "cv.destroyAllWindows()\n",
    "cam.release()\n",
    "# Destroy all windows\n",
    "#cv.destroyAllWindows()\n",
    "# OR\n",
    "# Release camera resources\n",
    "#cam.release()"
   ]
  },
  {
   "cell_type": "markdown",
   "metadata": {},
   "source": [
    "## Video Handling using OpenCV\n",
    "Say you have a video file on disk, which is basically a series of images stacked together in a single file, and you want to read it. Let's see how we can read this file\n",
    "\n",
    "#### Reading frames in a video\n",
    " It's the cv.VideoCapture function, but now we don't pass it a number (because this isn't a camera we're dealing with). We pass the function the full path with name and extension of the video file that we want to read. \n",
    " We can read video frame by frame and display it.\n",
    "\n",
    "#### Frame rate\n",
    "The function is basically the time delay we cause between processing two consecutive frames in a video. The entire video will get over in a very short period of time if this is too low. The video will appear to be in slow-motion if this delay is high. So we can adjust this timeout period to cause slow-motion or time-lapse. \n",
    "\n",
    " -[cv.VideoCapture](https://docs.opencv.org/3.0-beta/doc/py_tutorials/py_gui/py_video_display/py_video_display.html#playing-video-from-file): Stream video from a source\n"
   ]
  },
  {
   "cell_type": "code",
   "execution_count": 5,
   "metadata": {},
   "outputs": [],
   "source": [
    "import cv2 as cv\n",
    "import numpy as np\n",
    "from matplotlib import pyplot as plt\n",
    "# Video file name (must be an existing file)\n",
    "file = \"CAT.mp4\"\n",
    "# Delay that we do in between reading two frames (in milliseconds)\n",
    "tdelay = 20\n",
    "# Video reading object\n",
    "vid_reader = cv.VideoCapture(file)\n",
    "# Keep reading the file till end\n",
    "while (vid_reader.isOpened()):\n",
    "    # Use the read function\n",
    "    ret, img = vid_reader.read()\n",
    "    # If there's nothing to read, then break out of the loop\n",
    "    if not ret:\n",
    "        break\n",
    "    # View the image in a window named \"Frame\"\n",
    "    cv.imshow('Frame', img)\n",
    "    # Wait for a timeout and continue execution\n",
    "    key = cv.waitKey(tdelay) & 0xFF\n",
    "    # If user presses the 'q' key, break out of the loop\n",
    "    if key == ord('q'):\n",
    "        break\n",
    "# Destroy the frame window after all the work is done\n",
    "cv.destroyAllWindows()\n",
    "# Release the resources that the video reader is taking\n",
    "vid_reader.release()"
   ]
  },
  {
   "cell_type": "markdown",
   "metadata": {},
   "source": [
    "## Video Recording using OpenCV\n",
    "\n",
    "###  Properties to be adjusted\n",
    " - cam_no : camera number\n",
    " - dest_file_name: name of file to be saved(complete with path extension)\n",
    " - fps: frames per second of the video file\n",
    " - frame_size: size(resolution) of the frames to be saved (width by height)\n",
    " \n",
    " ## Recording and Video stream objects\n",
    "Now, we declare a few variables that'll help us get frames from the camera and help us write some video on the disk.\n",
    "- The *first* object is for the *video camera*, pretty straight forward\n",
    "- The *second* object is for the video recorder to know some basic details about the format. It's called a **Four Character Code**, [fourcc](https://en.wikipedia.org/wiki/FourCC) in short.\n",
    "- The *third* object is the object that will *write the video* on disk. It requires the name of file, the foucc object, fps and frame_size. \n",
    "\n",
    "You'll learn about the following here\n",
    "- [cv.VideoCaptute](https://docs.opencv.org/3.0-beta/modules/videoio/doc/reading_and_writing_video.html#videocapture): Used to get frames from a webcam or a video.\n",
    "- [cv.VideoWriter_fourcc](https://docs.opencv.org/3.0-beta/modules/videoio/doc/reading_and_writing_video.html#videowriter-fourcc): Used to declare the FCC for a video recording.\n",
    "- [cv.VideoWriter](https://docs.opencv.org/3.0-beta/modules/videoio/doc/reading_and_writing_video.html#videowriter): Used to write video on disk, by adding images frame by frame.\n",
    "\n",
    "\n",
    "## Record \n",
    "Now, let's write the code to record feed from the webcam specified earlier.\n",
    "\n",
    "In a loop\n",
    "- We'll get the frames from camera\n",
    "- Show them for preview\n",
    "- Write them to the file (and also keep a tally of the number of frames written)\n",
    "- If we get a `q` from keyboard, we break from the loop\n",
    "\n",
    "Keep in mind that the value passed to the `cv.waitKey` function is 1 and not 0, so that it resumes operations after a one millisecond timeout.\n",
    "\n",
    "- [cv.VideoWriter.write](https://docs.opencv.org/3.0-beta/modules/videoio/doc/reading_and_writing_video.html#videowriter-write): Used to append an image frame in a video using a video writer."
   ]
  },
  {
   "cell_type": "code",
   "execution_count": null,
   "metadata": {},
   "outputs": [],
   "source": [
    "import cv2 as cv\n",
    "import numpy as np\n",
    "from matplotlib import pyplot as plt\n",
    "# Variables for the program\n",
    "# Camera number\n",
    "cam_no = 0\n",
    "# File name (complete path with extension) where the video is to be stored\n",
    "dest_file_name = 'RecordedFile.avi'\n",
    "# FPS of our video file\n",
    "fps = 20.0\n",
    "# The size of our frame\n",
    "frame_size = (640, 480)\n",
    "# Objects declared\n",
    "# Camera object\n",
    "cam = cv.VideoCapture(cam_no)\n",
    "# FourCC object\n",
    "rec_fourcc = cv.VideoWriter_fourcc(*'XVID')\n",
    "# Recorder object\n",
    "rec = cv.VideoWriter(dest_file_name, rec_fourcc, fps, frame_size)\n",
    "# Recording loop\n",
    "\n",
    "# To keep track of the frame number\n",
    "fno = 0\n",
    "# The loop\n",
    "while cam.isOpened():\n",
    "    # Get a frame from the camera\n",
    "    ret, frame = cam.read()\n",
    "    if not ret:   # If resource is not available or if we don't get frames, break out\n",
    "        break\n",
    "    # Preview frames\n",
    "    cv.imshow(\"Live Feed\", frame)\n",
    "    # Save the frame on disk in the video file\n",
    "    rec.write(frame)\n",
    "    fno += 1\n",
    "    # Keyboard entry\n",
    "    key = cv.waitKey(1) & 0xff\n",
    "    if key == ord('q'):\n",
    "        break\n",
    "# Release camera resources\n",
    "cam.release()\n",
    "# Release video resources\n",
    "rec.release()\n",
    "# Destroy all windows created\n",
    "cv.destroyAllWindows()\n",
    "print(\"{num_frames} frames written to file \\\"{fname}\\\"\".format(num_frames=fno, fname=dest_file_name))"
   ]
  },
  {
   "cell_type": "markdown",
   "metadata": {},
   "source": [
    "**THAT'S ALL GUYS! THAT FINISHES DAY 1 OF THIS WORKSHOP!** "
   ]
  }
 ],
 "metadata": {
  "kernelspec": {
   "display_name": "Python 2",
   "language": "python",
   "name": "python2"
  },
  "language_info": {
   "codemirror_mode": {
    "name": "ipython",
    "version": 2
   },
   "file_extension": ".py",
   "mimetype": "text/x-python",
   "name": "python",
   "nbconvert_exporter": "python",
   "pygments_lexer": "ipython2",
   "version": "2.7.15"
  }
 },
 "nbformat": 4,
 "nbformat_minor": 2
}
