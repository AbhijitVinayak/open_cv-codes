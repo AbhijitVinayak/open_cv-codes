{
 "cells": [
  {
   "cell_type": "markdown",
   "metadata": {},
   "source": [
    "#### My first code\n",
    "Check shortcuts\n",
    "\n",
    "Press M in command mode to enter Markdown"
   ]
  },
  {
   "cell_type": "code",
   "execution_count": 8,
   "metadata": {},
   "outputs": [
    {
     "name": "stdout",
     "output_type": "stream",
     "text": [
      "Hello worl  d\n"
     ]
    }
   ],
   "source": [
    "print \"Hello worl   d\""
   ]
  },
  {
   "cell_type": "code",
   "execution_count": 9,
   "metadata": {},
   "outputs": [
    {
     "name": "stdout",
     "output_type": "stream",
     "text": [
      "me\n"
     ]
    }
   ],
   "source": [
    "print \"me\""
   ]
  },
  {
   "cell_type": "code",
   "execution_count": 10,
   "metadata": {},
   "outputs": [
    {
     "name": "stdout",
     "output_type": "stream",
     "text": [
      "my\n"
     ]
    }
   ],
   "source": [
    "print \"my\""
   ]
  },
  {
   "cell_type": "code",
   "execution_count": 11,
   "metadata": {},
   "outputs": [
    {
     "name": "stdout",
     "output_type": "stream",
     "text": [
      "Package                            Version                  \r\n",
      "---------------------------------- -------------------------\r\n",
      "alabaster                          0.7.10                   \r\n",
      "anaconda-client                    1.6.14                   \r\n",
      "anaconda-navigator                 1.8.7                    \r\n",
      "anaconda-project                   0.8.2                    \r\n",
      "asn1crypto                         0.24.0                   \r\n",
      "astroid                            1.6.3                    \r\n",
      "astropy                            2.0.6                    \r\n",
      "attrs                              18.1.0                   \r\n",
      "Babel                              2.5.3                    \r\n",
      "backports-abc                      0.5                      \r\n",
      "backports.functools-lru-cache      1.5                      \r\n",
      "backports.shutil-get-terminal-size 1.0.0                    \r\n",
      "backports.ssl-match-hostname       3.5.0.1                  \r\n",
      "beautifulsoup4                     4.6.0                    \r\n",
      "bitarray                           0.8.1                    \r\n",
      "bkcharts                           0.2                      \r\n",
      "blaze                              0.11.3                   \r\n",
      "bleach                             2.1.3                    \r\n",
      "bokeh                              0.12.16                  \r\n",
      "boto                               2.48.0                   \r\n",
      "Bottleneck                         1.2.1                    \r\n",
      "cdecimal                           2.3                      \r\n",
      "certifi                            2018.4.16                \r\n",
      "cffi                               1.11.5                   \r\n",
      "chardet                            3.0.4                    \r\n",
      "click                              6.7                      \r\n",
      "cloudpickle                        0.5.3                    \r\n",
      "clyent                             1.2.2                    \r\n",
      "colorama                           0.3.9                    \r\n",
      "conda                              4.5.4                    \r\n",
      "conda-build                        3.10.5                   \r\n",
      "conda-verify                       2.0.0                    \r\n",
      "configparser                       3.5.0                    \r\n",
      "contextlib2                        0.5.5                    \r\n",
      "cryptography                       2.2.2                    \r\n",
      "cycler                             0.10.0                   \r\n",
      "Cython                             0.28.2                   \r\n",
      "cytoolz                            0.9.0.1                  \r\n",
      "dask                               0.17.5                   \r\n",
      "datashape                          0.5.4                    \r\n",
      "decorator                          4.3.0                    \r\n",
      "distributed                        1.21.8                   \r\n",
      "docutils                           0.14                     \r\n",
      "entrypoints                        0.2.3                    \r\n",
      "enum34                             1.1.6                    \r\n",
      "et-xmlfile                         1.0.1                    \r\n",
      "fastcache                          1.0.2                    \r\n",
      "filelock                           3.0.4                    \r\n",
      "Flask                              1.0.2                    \r\n",
      "Flask-Cors                         3.0.4                    \r\n",
      "funcsigs                           1.0.2                    \r\n",
      "functools32                        3.2.3.post2              \r\n",
      "futures                            3.2.0                    \r\n",
      "gevent                             1.3.0                    \r\n",
      "glob2                              0.6                      \r\n",
      "gmpy2                              2.0.8                    \r\n",
      "greenlet                           0.4.13                   \r\n",
      "grin                               1.2.1                    \r\n",
      "h5py                               2.7.1                    \r\n",
      "heapdict                           1.0.0                    \r\n",
      "html5lib                           1.0.1                    \r\n",
      "idna                               2.6                      \r\n",
      "imageio                            2.3.0                    \r\n",
      "imagesize                          1.0.0                    \r\n",
      "imutils                            0.5.1                    \r\n",
      "ipaddress                          1.0.22                   \r\n",
      "ipykernel                          4.8.2                    \r\n",
      "ipython                            5.7.0                    \r\n",
      "ipython-genutils                   0.2.0                    \r\n",
      "ipywidgets                         7.2.1                    \r\n",
      "isort                              4.3.4                    \r\n",
      "itsdangerous                       0.24                     \r\n",
      "jdcal                              1.4                      \r\n",
      "jedi                               0.12.0                   \r\n",
      "Jinja2                             2.10                     \r\n",
      "jsonschema                         2.6.0                    \r\n",
      "jupyter                            1.0.0                    \r\n",
      "jupyter-client                     5.2.3                    \r\n",
      "jupyter-console                    5.2.0                    \r\n",
      "jupyter-core                       4.4.0                    \r\n",
      "jupyterlab                         0.32.1                   \r\n",
      "jupyterlab-launcher                0.10.5                   \r\n",
      "kiwisolver                         1.0.1                    \r\n",
      "lazy-object-proxy                  1.3.1                    \r\n",
      "llvmlite                           0.23.1                   \r\n",
      "locket                             0.2.0                    \r\n",
      "lxml                               4.2.1                    \r\n",
      "MarkupSafe                         1.0                      \r\n",
      "matplotlib                         2.2.2                    \r\n",
      "mccabe                             0.6.1                    \r\n",
      "mistune                            0.8.3                    \r\n",
      "mkl-fft                            1.0.0                    \r\n",
      "mkl-random                         1.0.1                    \r\n",
      "more-itertools                     4.1.0                    \r\n",
      "mpmath                             1.0.0                    \r\n",
      "msgpack-python                     0.5.6                    \r\n",
      "multipledispatch                   0.5.0                    \r\n",
      "navigator-updater                  0.2.1                    \r\n",
      "nbconvert                          5.3.1                    \r\n",
      "nbformat                           4.4.0                    \r\n",
      "networkx                           2.1                      \r\n",
      "nltk                               3.3                      \r\n",
      "nose                               1.3.7                    \r\n",
      "notebook                           5.5.0                    \r\n",
      "numba                              0.38.0+0.g2a2b772fc.dirty\r\n",
      "numexpr                            2.6.5                    \r\n",
      "numpy                              1.14.3                   \r\n",
      "numpydoc                           0.8.0                    \r\n",
      "odo                                0.5.1                    \r\n",
      "olefile                            0.45.1                   \r\n",
      "openpyxl                           2.5.3                    \r\n",
      "packaging                          17.1                     \r\n",
      "pandas                             0.23.0                   \r\n",
      "pandocfilters                      1.4.2                    \r\n",
      "parso                              0.2.0                    \r\n",
      "partd                              0.3.8                    \r\n",
      "path.py                            11.0.1                   \r\n",
      "pathlib2                           2.3.2                    \r\n",
      "patsy                              0.5.0                    \r\n",
      "pep8                               1.7.1                    \r\n",
      "pexpect                            4.5.0                    \r\n",
      "pickleshare                        0.7.4                    \r\n",
      "Pillow                             5.1.0                    \r\n",
      "pip                                10.0.1                   \r\n",
      "pkginfo                            1.4.2                    \r\n",
      "pluggy                             0.6.0                    \r\n",
      "ply                                3.11                     \r\n",
      "prompt-toolkit                     1.0.15                   \r\n",
      "psutil                             5.4.5                    \r\n",
      "ptyprocess                         0.5.2                    \r\n",
      "py                                 1.5.3                    \r\n",
      "pycairo                            1.15.4                   \r\n",
      "pycodestyle                        2.4.0                    \r\n",
      "pycosat                            0.6.3                    \r\n",
      "pycparser                          2.18                     \r\n",
      "pycrypto                           2.6.1                    \r\n",
      "pycurl                             7.43.0.1                 \r\n",
      "pyflakes                           1.6.0                    \r\n",
      "Pygments                           2.2.0                    \r\n",
      "pylint                             1.8.4                    \r\n",
      "pyodbc                             4.0.23                   \r\n",
      "pyOpenSSL                          18.0.0                   \r\n",
      "pyparsing                          2.2.0                    \r\n",
      "PySocks                            1.6.8                    \r\n",
      "pytest                             3.5.1                    \r\n",
      "python-dateutil                    2.7.3                    \r\n",
      "pytz                               2018.4                   \r\n",
      "PyWavelets                         0.5.2                    \r\n",
      "PyYAML                             3.12                     \r\n",
      "pyzmq                              17.0.0                   \r\n",
      "QtAwesome                          0.4.4                    \r\n",
      "qtconsole                          4.3.1                    \r\n",
      "QtPy                               1.4.1                    \r\n",
      "requests                           2.18.4                   \r\n",
      "rope                               0.10.7                   \r\n",
      "ruamel-yaml                        0.15.35                  \r\n",
      "scandir                            1.7                      \r\n",
      "scikit-image                       0.13.1                   \r\n",
      "scikit-learn                       0.19.1                   \r\n",
      "scipy                              1.1.0                    \r\n",
      "seaborn                            0.8.1                    \r\n",
      "Send2Trash                         1.5.0                    \r\n",
      "setuptools                         39.1.0                   \r\n",
      "simplegeneric                      0.8.1                    \r\n",
      "singledispatch                     3.4.0.3                  \r\n",
      "six                                1.11.0                   \r\n",
      "snowballstemmer                    1.2.1                    \r\n",
      "sortedcollections                  0.6.1                    \r\n",
      "sortedcontainers                   1.5.10                   \r\n",
      "Sphinx                             1.7.4                    \r\n",
      "sphinxcontrib-websupport           1.0.1                    \r\n",
      "spyder                             3.2.8                    \r\n",
      "SQLAlchemy                         1.2.7                    \r\n",
      "statsmodels                        0.9.0                    \r\n",
      "subprocess32                       3.5.0                    \r\n",
      "sympy                              1.1.1                    \r\n",
      "tables                             3.4.3                    \r\n",
      "tblib                              1.3.2                    \r\n",
      "terminado                          0.8.1                    \r\n",
      "testpath                           0.3.1                    \r\n",
      "toolz                              0.9.0                    \r\n",
      "tornado                            5.0.2                    \r\n",
      "traitlets                          4.3.2                    \r\n",
      "typing                             3.6.4                    \r\n",
      "unicodecsv                         0.14.1                   \r\n",
      "urllib3                            1.22                     \r\n",
      "wcwidth                            0.1.7                    \r\n",
      "webencodings                       0.5.1                    \r\n",
      "Werkzeug                           0.14.1                   \r\n",
      "wheel                              0.31.1                   \r\n",
      "widgetsnbextension                 3.2.1                    \r\n",
      "wrapt                              1.10.11                  \r\n",
      "xlrd                               1.1.0                    \r\n",
      "XlsxWriter                         1.0.4                    \r\n",
      "xlwt                               1.3.0                    \r\n",
      "zict                               0.1.3                    \r\n"
     ]
    },
    {
     "name": "stdout",
     "output_type": "stream",
     "text": [
      "\u001b[33mYou are using pip version 10.0.1, however version 18.1 is available.\r\n",
      "You should consider upgrading via the 'pip install --upgrade pip' command.\u001b[0m\r\n"
     ]
    }
   ],
   "source": [
    "!pip list"
   ]
  },
  {
   "cell_type": "code",
   "execution_count": 13,
   "metadata": {},
   "outputs": [
    {
     "data": {
      "application/json": {
       "cell": {
        "!": "OSMagics",
        "HTML": "Other",
        "SVG": "Other",
        "bash": "Other",
        "capture": "ExecutionMagics",
        "debug": "ExecutionMagics",
        "file": "Other",
        "html": "DisplayMagics",
        "javascript": "DisplayMagics",
        "js": "DisplayMagics",
        "latex": "DisplayMagics",
        "perl": "Other",
        "prun": "ExecutionMagics",
        "pypy": "Other",
        "python": "Other",
        "python2": "Other",
        "python3": "Other",
        "ruby": "Other",
        "script": "ScriptMagics",
        "sh": "Other",
        "svg": "DisplayMagics",
        "sx": "OSMagics",
        "system": "OSMagics",
        "time": "ExecutionMagics",
        "timeit": "ExecutionMagics",
        "writefile": "OSMagics"
       },
       "line": {
        "alias": "OSMagics",
        "alias_magic": "BasicMagics",
        "autocall": "AutoMagics",
        "automagic": "AutoMagics",
        "autosave": "KernelMagics",
        "bookmark": "OSMagics",
        "cat": "Other",
        "cd": "OSMagics",
        "clear": "KernelMagics",
        "colors": "BasicMagics",
        "config": "ConfigMagics",
        "connect_info": "KernelMagics",
        "cp": "Other",
        "debug": "ExecutionMagics",
        "dhist": "OSMagics",
        "dirs": "OSMagics",
        "doctest_mode": "BasicMagics",
        "ed": "Other",
        "edit": "KernelMagics",
        "env": "OSMagics",
        "gui": "BasicMagics",
        "hist": "Other",
        "history": "HistoryMagics",
        "killbgscripts": "ScriptMagics",
        "ldir": "Other",
        "less": "KernelMagics",
        "lf": "Other",
        "lk": "Other",
        "ll": "Other",
        "load": "CodeMagics",
        "load_ext": "ExtensionMagics",
        "loadpy": "CodeMagics",
        "logoff": "LoggingMagics",
        "logon": "LoggingMagics",
        "logstart": "LoggingMagics",
        "logstate": "LoggingMagics",
        "logstop": "LoggingMagics",
        "ls": "Other",
        "lsmagic": "BasicMagics",
        "lx": "Other",
        "macro": "ExecutionMagics",
        "magic": "BasicMagics",
        "man": "KernelMagics",
        "matplotlib": "PylabMagics",
        "mkdir": "Other",
        "more": "KernelMagics",
        "mv": "Other",
        "notebook": "BasicMagics",
        "page": "BasicMagics",
        "pastebin": "CodeMagics",
        "pdb": "ExecutionMagics",
        "pdef": "NamespaceMagics",
        "pdoc": "NamespaceMagics",
        "pfile": "NamespaceMagics",
        "pinfo": "NamespaceMagics",
        "pinfo2": "NamespaceMagics",
        "popd": "OSMagics",
        "pprint": "BasicMagics",
        "precision": "BasicMagics",
        "profile": "BasicMagics",
        "prun": "ExecutionMagics",
        "psearch": "NamespaceMagics",
        "psource": "NamespaceMagics",
        "pushd": "OSMagics",
        "pwd": "OSMagics",
        "pycat": "OSMagics",
        "pylab": "PylabMagics",
        "qtconsole": "KernelMagics",
        "quickref": "BasicMagics",
        "recall": "HistoryMagics",
        "rehashx": "OSMagics",
        "reload_ext": "ExtensionMagics",
        "rep": "Other",
        "rerun": "HistoryMagics",
        "reset": "NamespaceMagics",
        "reset_selective": "NamespaceMagics",
        "rm": "Other",
        "rmdir": "Other",
        "run": "ExecutionMagics",
        "save": "CodeMagics",
        "sc": "OSMagics",
        "set_env": "OSMagics",
        "store": "StoreMagics",
        "sx": "OSMagics",
        "system": "OSMagics",
        "tb": "ExecutionMagics",
        "time": "ExecutionMagics",
        "timeit": "ExecutionMagics",
        "unalias": "OSMagics",
        "unload_ext": "ExtensionMagics",
        "who": "NamespaceMagics",
        "who_ls": "NamespaceMagics",
        "whos": "NamespaceMagics",
        "xdel": "NamespaceMagics",
        "xmode": "BasicMagics"
       }
      },
      "text/plain": [
       "Available line magics:\n",
       "%alias  %alias_magic  %autocall  %automagic  %autosave  %bookmark  %cat  %cd  %clear  %colors  %config  %connect_info  %cp  %debug  %dhist  %dirs  %doctest_mode  %ed  %edit  %env  %gui  %hist  %history  %killbgscripts  %ldir  %less  %lf  %lk  %ll  %load  %load_ext  %loadpy  %logoff  %logon  %logstart  %logstate  %logstop  %ls  %lsmagic  %lx  %macro  %magic  %man  %matplotlib  %mkdir  %more  %mv  %notebook  %page  %pastebin  %pdb  %pdef  %pdoc  %pfile  %pinfo  %pinfo2  %popd  %pprint  %precision  %profile  %prun  %psearch  %psource  %pushd  %pwd  %pycat  %pylab  %qtconsole  %quickref  %recall  %rehashx  %reload_ext  %rep  %rerun  %reset  %reset_selective  %rm  %rmdir  %run  %save  %sc  %set_env  %store  %sx  %system  %tb  %time  %timeit  %unalias  %unload_ext  %who  %who_ls  %whos  %xdel  %xmode\n",
       "\n",
       "Available cell magics:\n",
       "%%!  %%HTML  %%SVG  %%bash  %%capture  %%debug  %%file  %%html  %%javascript  %%js  %%latex  %%perl  %%prun  %%pypy  %%python  %%python2  %%python3  %%ruby  %%script  %%sh  %%svg  %%sx  %%system  %%time  %%timeit  %%writefile\n",
       "\n",
       "Automagic is ON, % prefix IS NOT needed for line magics."
      ]
     },
     "execution_count": 13,
     "metadata": {},
     "output_type": "execute_result"
    }
   ],
   "source": [
    "%lsmagic"
   ]
  },
  {
   "cell_type": "code",
   "execution_count": 14,
   "metadata": {},
   "outputs": [
    {
     "data": {
      "text/plain": [
       "u'/home/akshatha_kamath/CV'"
      ]
     },
     "execution_count": 14,
     "metadata": {},
     "output_type": "execute_result"
    }
   ],
   "source": [
    "%pwd"
   ]
  },
  {
   "cell_type": "code",
   "execution_count": 15,
   "metadata": {},
   "outputs": [
    {
     "name": "stdout",
     "output_type": "stream",
     "text": [
      "Classification1_researchlab.ipynb  Testing Jupyter.ipynb\r\n"
     ]
    }
   ],
   "source": [
    "%ls"
   ]
  },
  {
   "cell_type": "code",
   "execution_count": 16,
   "metadata": {},
   "outputs": [
    {
     "name": "stdout",
     "output_type": "stream",
     "text": [
      "total 52\r\n",
      "drwxrwxr-x  3 akshatha_kamath akshatha_kamath  4096 Nov  3 13:03 \u001b[0m\u001b[01;34m.\u001b[0m/\r\n",
      "drwxr-xr-x 57 akshatha_kamath akshatha_kamath  4096 Nov  3 11:28 \u001b[01;34m..\u001b[0m/\r\n",
      "-rw-rw-r--  1 akshatha_kamath akshatha_kamath 14823 Sep 19 19:42 Classification1_researchlab.ipynb\r\n",
      "drwxrwxr-x  2 akshatha_kamath akshatha_kamath  4096 Nov  3 11:54 \u001b[01;34m.ipynb_checkpoints\u001b[0m/\r\n",
      "-rw-rw-r--  1 akshatha_kamath akshatha_kamath 22324 Nov  3 13:03 Testing Jupyter.ipynb\r\n"
     ]
    }
   ],
   "source": [
    "%ls -la"
   ]
  },
  {
   "cell_type": "code",
   "execution_count": 18,
   "metadata": {},
   "outputs": [],
   "source": [
    "%matplotlib inline"
   ]
  },
  {
   "cell_type": "code",
   "execution_count": 20,
   "metadata": {},
   "outputs": [
    {
     "data": {
      "image/png": "[encoded data removed]",
      "text/plain": [
       "<Figure size 432x288 with 1 Axes>"
      ]
     },
     "metadata": {},
     "output_type": "display_data"
    }
   ],
   "source": [
    "import matplotlib.pyplot as plt\n",
    "import matplotlib.image as mpimg\n",
    "image=mpimg.imread(\"/home/akshatha_kamath/Pictures/map.png\")\n",
    "plt.imshow(image)\n",
    "plt.show()"
   ]
  },
  {
   "cell_type": "code",
   "execution_count": 22,
   "metadata": {},
   "outputs": [
    {
     "data": {
      "text/html": [
       "<iframe src=\"http://wiki.ros.org/rospy/Overview/Services\"></iframe>"
      ],
      "text/plain": [
       "<IPython.core.display.HTML object>"
      ]
     },
     "metadata": {},
     "output_type": "display_data"
    }
   ],
   "source": [
    "%%HTML\n",
    "<iframe src=\"http://wiki.ros.org/rospy/Overview/Services\"></iframe>"
   ]
  },
  {
   "cell_type": "code",
   "execution_count": 28,
   "metadata": {},
   "outputs": [
    {
     "data": {
      "text/html": [
       "<div>\n",
       "<style scoped>\n",
       "    .dataframe tbody tr th:only-of-type {\n",
       "        vertical-align: middle;\n",
       "    }\n",
       "\n",
       "    .dataframe tbody tr th {\n",
       "        vertical-align: top;\n",
       "    }\n",
       "\n",
       "    .dataframe thead th {\n",
       "        text-align: right;\n",
       "    }\n",
       "</style>\n",
       "<table border=\"1\" class=\"dataframe\">\n",
       "  <thead>\n",
       "    <tr style=\"text-align: right;\">\n",
       "      <th></th>\n",
       "      <th>0</th>\n",
       "      <th>1</th>\n",
       "      <th>2</th>\n",
       "      <th>3</th>\n",
       "    </tr>\n",
       "  </thead>\n",
       "  <tbody>\n",
       "    <tr>\n",
       "      <th>0</th>\n",
       "      <td>-1.696600</td>\n",
       "      <td>1.231229</td>\n",
       "      <td>-0.305554</td>\n",
       "      <td>-0.867934</td>\n",
       "    </tr>\n",
       "    <tr>\n",
       "      <th>1</th>\n",
       "      <td>1.458006</td>\n",
       "      <td>0.585969</td>\n",
       "      <td>1.721658</td>\n",
       "      <td>-1.266896</td>\n",
       "    </tr>\n",
       "  </tbody>\n",
       "</table>\n",
       "</div>"
      ],
      "text/plain": [
       "          0         1         2         3\n",
       "0 -1.696600  1.231229 -0.305554 -0.867934\n",
       "1  1.458006  0.585969  1.721658 -1.266896"
      ]
     },
     "execution_count": 28,
     "metadata": {},
     "output_type": "execute_result"
    }
   ],
   "source": [
    "import numpy as np\n",
    "import pandas as pd\n",
    "\n",
    "df=pd.DataFrame(np.random.randn(6,4))\n",
    "df.head(2)"
   ]
  },
  {
   "cell_type": "code",
   "execution_count": null,
   "metadata": {},
   "outputs": [],
   "source": []
  },
  {
   "cell_type": "code",
   "execution_count": null,
   "metadata": {},
   "outputs": [],
   "source": []
  },
  {
   "cell_type": "code",
   "execution_count": null,
   "metadata": {},
   "outputs": [],
   "source": []
  }
 ],
 "metadata": {
  "kernelspec": {
   "display_name": "Python 2",
   "language": "python",
   "name": "python2"
  },
  "language_info": {
   "codemirror_mode": {
    "name": "ipython",
    "version": 2
   },
   "file_extension": ".py",
   "mimetype": "text/x-python",
   "name": "python",
   "nbconvert_exporter": "python",
   "pygments_lexer": "ipython2",
   "version": "2.7.15"
  }
 },
 "nbformat": 4,
 "nbformat_minor": 2
}
