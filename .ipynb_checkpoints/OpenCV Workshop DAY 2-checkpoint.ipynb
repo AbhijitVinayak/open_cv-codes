{
 "cells": [
  {
   "cell_type": "markdown",
   "metadata": {},
   "source": [
    "<a name=\"top\"></a>\n",
    "# OpenCV workshop Day 2\n",
    "\n",
    "Here's a documentation to OpenCV to assist you with the day 2 of the Workshop in OpenCV and Computer Vision.\n"
   ]
  },
  {
   "cell_type": "markdown",
   "metadata": {},
   "source": [
    "<div style=\"height:10px;\"></div>\n",
    "\n",
    "- [OpenCV documentation and Tutorials](#-open-cv-documentation)\n",
    "- [Projects in openCV and Computer Vision](#-projects)\n",
    "- [Colour Spaces and Thresholding](#-colour-spaces)\n",
    "- [Filters](#-filters)\n",
    "- [Canny Edge Detection](#-canny-edge-detection)\n",
    "- [Face Detection](#-face-detection)\n",
    "- [Further Resources](#-other)\n",
    "\n",
    "\n",
    "<div style=\"height:10px;\"></div>\n"
   ]
  },
  {
   "cell_type": "markdown",
   "metadata": {},
   "source": [
    "<b id=\"-open-cv-documentation\">OpenCV documentation and Tutorials</b> <a href=\"#top\">[back to top]</a>\n",
    "\n",
    "\n",
    "- Official OpenCV documentation - The Bible for OpenCV[[here](https://docs.opencv.org/2.4/doc/tutorials/tutorials.html)]\n",
    " \n",
    " Refer to the official openCV documentation above for detailed tutorials.\n",
    " \n",
    "\n",
    "\n",
    "<br>\n"
   ]
  },
  {
   "cell_type": "markdown",
   "metadata": {},
   "source": [
    "<b id=\"-projects\">Projects in openCV and Computer Vision</b> <a href=\"#top\">[back to top]</a>\n",
    "\n",
    "- Great projects for all levels. From basic image processing to Machine Learning [[Hackster](https://www.hackster.io/opencv/projects)]  \n",
    "\n",
    "Don't be intimidated !!! Start working on the basic projects to get a hang of it and eventually dive into deep learning for Computer Vision. \n",
    "![Controller characteristics](../.DATA/Images/PIDController_Info.png)\n",
    "\n",
    "<br>"
   ]
  },
  {
   "cell_type": "markdown",
   "metadata": {},
   "source": [
    "<b id=\"-colour-spaces\">Colour Spaces and Thresholding</b> <a href=\"#top\">[back to top]</a>\n",
    "\n",
    "- Great projects for all levels. From basic image processing to Machine Learning [[Hackster](https://www.hackster.io/opencv/projects)]  \n",
    "\n",
    "Don't be intimidated !!! Start working on the basic projects to get a hang of it and eventually dive into deep learning for Computer Vision. \n",
    "![Controller characteristics](../.DATA/Images/PIDController_Info.png)\n",
    "\n",
    "<br>"
   ]
  },
  {
   "cell_type": "markdown",
   "metadata": {},
   "source": [
    "<b id=\"-filters\">Filters</b> <a href=\"#top\">[back to top]</a>\n",
    "\n",
    "- Great projects for all levels. From basic image processing to Machine Learning [[Hackster](https://www.hackster.io/opencv/projects)]  \n",
    "\n",
    "Don't be intimidated !!! Start working on the basic projects to get a hang of it and eventually dive into deep learning for Computer Vision. \n",
    "![Controller characteristics](../.DATA/Images/PIDController_Info.png)\n",
    "\n",
    "<br>"
   ]
  },
  {
   "cell_type": "code",
   "execution_count": 3,
   "metadata": {},
   "outputs": [
    {
     "ename": "SyntaxError",
     "evalue": "invalid syntax (<ipython-input-3-fe2edd5f3013>, line 1)",
     "output_type": "error",
     "traceback": [
      "\u001b[0;36m  File \u001b[0;32m\"<ipython-input-3-fe2edd5f3013>\"\u001b[0;36m, line \u001b[0;32m1\u001b[0m\n\u001b[0;31m    <b id=\"-canny-edge-detection\">Canny Edge Detection</b> <a href=\"#top\">[back to top]</a>\u001b[0m\n\u001b[0m    ^\u001b[0m\n\u001b[0;31mSyntaxError\u001b[0m\u001b[0;31m:\u001b[0m invalid syntax\n"
     ]
    }
   ],
   "source": [
    "<b id=\"-canny-edge-detection\">Canny Edge Detection</b> <a href=\"#top\">[back to top]</a>\n",
    "\n",
    "- Great projects for all levels. From basic image processing to Machine Learning [[Hackster](https://www.hackster.io/opencv/projects)]  \n",
    "\n",
    "Don't be intimidated !!! Start working on the basic projects to get a hang of it and eventually dive into deep learning for Computer Vision. \n",
    "![Controller characteristics](../.DATA/Images/PIDController_Info.png)\n",
    "\n",
    "<br>"
   ]
  },
  {
   "cell_type": "code",
   "execution_count": 4,
   "metadata": {},
   "outputs": [
    {
     "ename": "SyntaxError",
     "evalue": "invalid syntax (<ipython-input-4-ad60bd7aaa21>, line 1)",
     "output_type": "error",
     "traceback": [
      "\u001b[0;36m  File \u001b[0;32m\"<ipython-input-4-ad60bd7aaa21>\"\u001b[0;36m, line \u001b[0;32m1\u001b[0m\n\u001b[0;31m    <b id=\"-face-detection\">Face Detection</b> <a href=\"#top\">[back to top]</a>\u001b[0m\n\u001b[0m    ^\u001b[0m\n\u001b[0;31mSyntaxError\u001b[0m\u001b[0;31m:\u001b[0m invalid syntax\n"
     ]
    }
   ],
   "source": [
    "<b id=\"-face-detection\">Face Detection</b> <a href=\"#top\">[back to top]</a>\n",
    "\n",
    "- Great projects for all levels. From basic image processing to Machine Learning [[Hackster](https://www.hackster.io/opencv/projects)]  \n",
    "\n",
    "Don't be intimidated !!! Start working on the basic projects to get a hang of it and eventually dive into deep learning for Computer Vision. \n",
    "![Controller characteristics](../.DATA/Images/PIDController_Info.png)\n",
    "\n",
    "<br>"
   ]
  },
  {
   "cell_type": "code",
   "execution_count": null,
   "metadata": {},
   "outputs": [],
   "source": [
    "<b id=\"-others\">Further Resources</b> <a href=\"#top\">[back to top]</a>\n",
    "\n",
    "- Great projects for all levels. From basic image processing to Machine Learning [[Hackster](https://www.hackster.io/opencv/projects)]  \n",
    "\n",
    "Don't be intimidated !!! Start working on the basic projects to get a hang of it and eventually dive into deep learning for Computer Vision. \n",
    "![Controller characteristics](../.DATA/Images/PIDController_Info.png)\n",
    "\n",
    "<br>"
   ]
  }
 ],
 "metadata": {
  "kernelspec": {
   "display_name": "Python 2",
   "language": "python",
   "name": "python2"
  },
  "language_info": {
   "codemirror_mode": {
    "name": "ipython",
    "version": 2
   },
   "file_extension": ".py",
   "mimetype": "text/x-python",
   "name": "python",
   "nbconvert_exporter": "python",
   "pygments_lexer": "ipython2",
   "version": "2.7.15"
  }
 },
 "nbformat": 4,
 "nbformat_minor": 2
}
