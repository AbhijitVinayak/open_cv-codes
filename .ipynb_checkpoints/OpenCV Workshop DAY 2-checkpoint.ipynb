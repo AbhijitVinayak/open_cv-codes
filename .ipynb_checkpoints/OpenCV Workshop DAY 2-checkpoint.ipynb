{
 "cells": [
  {
   "cell_type": "markdown",
   "metadata": {},
   "source": [
    "<a name=\"top\"></a>\n",
    "# OpenCV workshop Day 2\n",
    "\n",
    "Here's a documentation to OpenCV to assist you with the day 2 of the Workshop in OpenCV and Computer Vision.\n"
   ]
  },
  {
   "cell_type": "markdown",
   "metadata": {},
   "source": [
    "<div style=\"height:10px;\"></div>\n",
    "\n",
    "- [OpenCV documentation and Tutorials](#-open-cv-documentation)\n",
    "- [Projects in openCV and Computer Vision](#-projects)\n",
    "- [Algorithms](#-algorithms)\n",
    "- [// Plotting and Visualization](#-plotting-and-visualization)\n",
    "- [// Benchmarks](#-benchmarks)\n",
    "- [// Python and \"Data Science\"](#-python-and-data-science)\n",
    "- [// Useful scripts and snippets](#-useful-scripts-and-snippets)\n",
    "- [// Other](#-other)\n",
    "- [// Links](#-links)\n",
    "\n",
    "\n",
    "<div style=\"height:10px;\"></div>\n"
   ]
  },
  {
   "cell_type": "markdown",
   "metadata": {},
   "source": [
    "<b id=\"-open-cv-documentation\">OpenCV documentation and Tutorials</b> <a href=\"#top\">[back to top]</a>\n",
    "\n",
    "\n",
    "- Official OpenCV documentation - The Bible for OpenCV[[here](https://docs.opencv.org/2.4/doc/tutorials/tutorials.html)]\n",
    "\n",
    "- Great openCV project ideas and detailed tutorials [[Hackster](https://www.hackster.io/opencv/projects)]\n",
    "\n",
    "- A collection of not so obvious stuff written in easy to understand ways! [[Here](http://www.robindavid.fr/opencv-tutorial/)]\n",
    "\n",
    "- A thorough guide to SQLite database operations in Python [[Markdown](./tutorials/sqlite3_howto/README.md)]  \n",
    "\n",
    "- Unit testing in Python - Why we want to make it a habit [[Markdown](./tutorials/unit_testing.md)]  \n",
    "\n",
    "- Installing Scientific Packages for Python3 on MacOS 10.9 Mavericks [[Markdown](./tutorials/installing_scientific_packages.md)]\n",
    "\n",
    "- Sorting CSV files using the Python csv module [[IPython nb](http://nbviewer.ipython.org/github/rasbt/python_reference/blob/master/tutorials/sorting_csvs.ipynb)]\n",
    "\n",
    "- Using Cython with and without IPython magic [[IPython nb](http://nbviewer.ipython.org/github/rasbt/python_reference/blob/master/tutorials/running_cython.ipynb)]\n",
    "\n",
    "- Parallel processing via the multiprocessing module [[IPython nb](http://nbviewer.ipython.org/github/rasbt/python_reference/blob/master/tutorials/multiprocessing_intro.ipynb?create=1)]\n",
    "\n",
    "- Entry point: Data - using sci-packages to prepare data for Machine Learning tasks and other data analyses [[IPython nb](http://nbviewer.ipython.org/github/rasbt/python_reference/blob/master/tutorials/python_data_entry_point.ipynb?create=1)]\n",
    "\n",
    "- Awesome things that you can do in IPython Notebooks (in progress) [[IPython nb](http://nbviewer.ipython.org/github/rasbt/python_reference/blob/master/tutorials/awesome_things_ipynb.ipynb)]\n",
    "\n",
    "- A collection of useful regular expressions [[IPython nb](http://nbviewer.ipython.org/github/rasbt/python_reference/blob/master/tutorials/useful_regex.ipynb)]\n",
    "\n",
    "- Quick guide for dealing with missing numbers in NumPy [[IPython nb](http://nbviewer.ipython.org/github/rasbt/python_reference/blob/master/tutorials/numpy_nan_quickguide.ipynb)]\n",
    "\n",
    "- A random collection of useful Python snippets [[IPython nb](http://nbviewer.ipython.org/github/rasbt/python_reference/blob/master/python_patterns/patterns.ipynb)]\n",
    "\n",
    "- Things in pandas I wish I'd had known earlier [[IPython nb](http://nbviewer.ipython.org/github/rasbt/python_reference/blob/master/tutorials/things_in_pandas.ipynb)]\n",
    "\n",
    "\n",
    "<br>\n"
   ]
  },
  {
   "cell_type": "markdown",
   "metadata": {},
   "source": [
    "<b id=\"-projects\">Projects in openCV and Computer Vision</b> <a href=\"#top\">[back to top]</a>\n",
    "\n",
    "- Creating internal links in IPython Notebooks and Markdown docs [[IPython nb](http://nbviewer.ipython.org/github/rasbt/python_reference/blob/master/tutorials/table_of_contents_ipython.ipynb)]  \n",
    "\n",
    "- Converting Markdown to HTML and adding Python syntax highlighting [[Markdown](./tutorials/markdown_syntax_highlighting/README.md)]\n",
    "\n",
    "\n",
    "<br>"
   ]
  },
  {
   "cell_type": "code",
   "execution_count": null,
   "metadata": {},
   "outputs": [],
   "source": []
  }
 ],
 "metadata": {
  "kernelspec": {
   "display_name": "Python 2",
   "language": "python",
   "name": "python2"
  },
  "language_info": {
   "codemirror_mode": {
    "name": "ipython",
    "version": 2
   },
   "file_extension": ".py",
   "mimetype": "text/x-python",
   "name": "python",
   "nbconvert_exporter": "python",
   "pygments_lexer": "ipython2",
   "version": "2.7.15"
  }
 },
 "nbformat": 4,
 "nbformat_minor": 2
}
